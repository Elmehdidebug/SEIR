{
 "cells": [
  {
   "cell_type": "code",
   "execution_count": 113,
   "metadata": {},
   "outputs": [],
   "source": [
    "from scipy.integrate import odeint\n",
    "import numpy as np\n",
    "import pandas as pd\n",
    "import matplotlib.pyplot as plt\n",
    "import dash\n",
    "import dash_html_components as html\n",
    "import dash_core_components as dcc\n",
    "from dash.dependencies import Input, Output, State\n",
    "import plotly.graph_objs as go\n",
    "%matplotlib inline"
   ]
  },
  {
   "cell_type": "code",
   "execution_count": 117,
   "metadata": {},
   "outputs": [],
   "source": [
    "def deriv(y, t, N, beta, gamma, delta):\n",
    "    S, E, I, R = y\n",
    "    dSdt = -beta * S * I / N\n",
    "    dEdt = beta * S * I / N - delta * E\n",
    "    dIdt = delta * E - gamma * I\n",
    "    dRdt = gamma * I\n",
    "    return dSdt, dEdt, dIdt, dRdt"
   ]
  },
  {
   "cell_type": "code",
   "execution_count": 140,
   "metadata": {},
   "outputs": [],
   "source": [
    "N = 1000\n",
    "beta = 2.0  # infected person infects 1 other person per day\n",
    "D = 4.0 # infections lasts four days\n",
    "gamma = 3.0 / D\n",
    "delta = 2.0 / 3.0  # incubation period of three days\n",
    "\n",
    "S0, E0, I0, R0 = 999, 0, 1, 0  # initial conditions: one exposed, rest susceptible\n",
    "t = np.linspace(0, 1000, 100) # Grid of time points (in days)\n",
    "\n",
    "y0 = S0, E0, I0, R0 # Initial conditions vector\n",
    "\n",
    "# Integrate the SIR equations over the time grid, t.\n",
    "ret = odeint(deriv, y0, t, args=(N, beta, gamma, delta))\n",
    "S, E, I, R = ret.T"
   ]
  },
  {
   "cell_type": "code",
   "execution_count": 141,
   "metadata": {
    "scrolled": true
   },
   "outputs": [
    {
     "data": {
      "text/plain": [
       "<matplotlib.legend.Legend at 0x20d9e973708>"
      ]
     },
     "execution_count": 141,
     "metadata": {},
     "output_type": "execute_result"
    },
    {
     "data": {
      "image/png": "[encoded data removed]",
      "text/plain": [
       "<Figure size 432x288 with 1 Axes>"
      ]
     },
     "metadata": {
      "needs_background": "light"
     },
     "output_type": "display_data"
    }
   ],
   "source": [
    "f, ax = plt.subplots()\n",
    "ax.plot(t, S, 'b', linewidth=2, label='Susceptible')\n",
    "ax.plot(t, E, 'y', linewidth=2, label='Exposed')\n",
    "ax.plot(t, I, 'r', linewidth=2, label='Infected')\n",
    "ax.plot(t, R, 'g', linewidth=2, label='Recovered')\n",
    "plt.legend()"
   ]
  },
  {
   "cell_type": "code",
   "execution_count": null,
   "metadata": {},
   "outputs": [],
   "source": [
    "def deriv(y, t, N, beta, gamma, delta):\n",
    "    S, E, I, R = y\n",
    "    dSdt = -beta * S * I / N\n",
    "    dEdt = beta * S * I / N - delta * E\n",
    "    dIdt = delta * E - gamma * I\n",
    "    dRdt = gamma * I\n",
    "    return dSdt, dEdt, dIdt, dRdt"
   ]
  },
  {
   "cell_type": "code",
   "execution_count": 154,
   "metadata": {},
   "outputs": [],
   "source": [
    "app = dash.Dash(__name__)\n",
    "\n",
    "app.layout = html.Div([\n",
    "    html.Img(id='corona_png',src='assets/covid-19.png'),\n",
    "    html.Img(id='um6p_png',src='assets/um6p.png'),\n",
    "    html.Div([\n",
    "        html.Div([\n",
    "            html.Label(children='Nomber of Susceptibles :'),\n",
    "            dcc.Input(\n",
    "                id='susceptibles',\n",
    "                type='number',\n",
    "                value=999\n",
    "            ),\n",
    "\n",
    "            html.Label(children='Nomber des infecteds :'),\n",
    "            dcc.Input(\n",
    "                id='infecteds',\n",
    "                type='number',\n",
    "                value=1\n",
    "            ),\n",
    "\n",
    "            html.Label(children='Recovered :'),\n",
    "            dcc.Input(\n",
    "                id = 'recovered',\n",
    "                type='number',\n",
    "                value=0\n",
    "            ),\n",
    "\n",
    "            html.Label(children='Days :'),\n",
    "            dcc.Input(\n",
    "                id = 'days',\n",
    "                type='number',\n",
    "                value=100\n",
    "            ),\n",
    "            \n",
    "            html.Label(children='Number of susceptibles could be infect by an infected (Probabilty of an susceptible becomes exposed):'),\n",
    "            dcc.Slider(\n",
    "                id='exposed',\n",
    "                min=0,\n",
    "                max=10,\n",
    "                value=1,\n",
    "                marks = {str(round(val,2)) : str(round(val,2)) for val in np.arange(0,11)},\n",
    "                step=None\n",
    "            ),\n",
    "\n",
    "            html.Label(children='Number of exposeds become infected (Probabilty of an exposeds becomes infected):'),\n",
    "            dcc.Slider(\n",
    "                id='infected',\n",
    "                min=0,\n",
    "                max=10,\n",
    "                value=1,\n",
    "                marks = {str(round(val,2)) : str(round(val,2)) for val in np.arange(0,11)},\n",
    "                step=None\n",
    "            ),\n",
    "\n",
    "\n",
    "            html.Label(children='period of infections:'),\n",
    "            dcc.Slider(\n",
    "                id='infection',\n",
    "                min=0,\n",
    "                max=10,\n",
    "                value=4,\n",
    "                marks = {str(round(val,2)) : str(round(val,2)) for val in np.arange(0,11)},\n",
    "                step=None\n",
    "            ),\n",
    "\n",
    "\n",
    "            html.Label(children='period of incubation:'),\n",
    "            dcc.Slider(\n",
    "                id='incubation',\n",
    "                min=0,\n",
    "                max=10,\n",
    "                value=3,\n",
    "                marks = {str(round(val,2)) : str(round(val,2)) for val in np.arange(0,11)},\n",
    "                step=None\n",
    "            ),\n",
    "            \n",
    "            html.Button(id='submit-button', n_clicks=0, children='Submit')\n",
    "\n",
    "        ],id='form'),\n",
    "\n",
    "        dcc.Graph(id='indicator-graphic'),\n",
    "    ],id=\"resultat\")\n",
    "    \n",
    "],className = 'container')\n",
    "\n",
    "\n",
    "@app.callback(\n",
    "    Output('indicator-graphic', 'figure'),\n",
    "    [Input('submit-button', 'n_clicks')],\n",
    "    [State('susceptibles', 'value'),\n",
    "    State('infecteds', 'value'),\n",
    "    State('recovered', 'value'),\n",
    "    State('days', 'value'),\n",
    "    State('exposed', 'value'),\n",
    "    State('infected', 'value'),\n",
    "    State('infection', 'value'),\n",
    "    State('incubation', 'value')]\n",
    ")\n",
    "def update_figure(n_clicks,susceptibles,infecteds,recovered,days,exposed,infected,infection,incubation):\n",
    "    N = susceptibles+infecteds+infecteds\n",
    "    beta = exposed\n",
    "    D = infection\n",
    "    gamma = infected / D\n",
    "    delta = infected / incubation  #à verfier\n",
    "\n",
    "    S0, E0, I0, R0 = susceptibles, 0, infecteds, 0  \n",
    "    t = np.linspace(0, days, 100)\n",
    "\n",
    "    y0 = S0, E0, I0, R0 \n",
    "\n",
    "    # Integrate the SIR equations over the time grid, t.\n",
    "    ret = odeint(deriv, y0, t, args=(N, beta, gamma, delta))\n",
    "    S, E, I, R = ret.T\n",
    "    \n",
    "    traces = [\n",
    "        go.Scatter(\n",
    "            x = t,\n",
    "            y = ax[0],\n",
    "            mode = 'lines',\n",
    "            name= ax[1]\n",
    "        )for ax in [(S,'Susceptible'), (E,'Exposed'), (I,'Infected'), (R,'Recovered')]]\n",
    "    \n",
    "    layout = go.Layout(title = \"\",\n",
    "                   xaxis_title='Days',\n",
    "                   yaxis_title='cases')\n",
    "    \n",
    "    return {\n",
    "        'data' : traces,\n",
    "        'layout' : layout\n",
    "    }"
   ]
  },
  {
   "cell_type": "code",
   "execution_count": 155,
   "metadata": {
    "scrolled": false
   },
   "outputs": [
    {
     "name": "stdout",
     "output_type": "stream",
     "text": [
      " * Serving Flask app \"__main__\" (lazy loading)\n",
      " * Environment: production\n",
      "   WARNING: This is a development server. Do not use it in a production deployment.\n",
      "   Use a production WSGI server instead.\n",
      " * Debug mode: off\n"
     ]
    },
    {
     "name": "stderr",
     "output_type": "stream",
     "text": [
      " * Running on http://127.0.0.1:8050/ (Press CTRL+C to quit)\n",
      "127.0.0.1 - - [18/May/2020 02:03:41] \"\u001b[37mGET / HTTP/1.1\u001b[0m\" 200 -\n",
      "127.0.0.1 - - [18/May/2020 02:03:41] \"\u001b[37mGET /_dash-layout HTTP/1.1\u001b[0m\" 200 -\n",
      "127.0.0.1 - - [18/May/2020 02:03:41] \"\u001b[37mGET /_dash-dependencies HTTP/1.1\u001b[0m\" 200 -\n",
      "127.0.0.1 - - [18/May/2020 02:03:44] \"\u001b[37mPOST /_dash-update-component HTTP/1.1\u001b[0m\" 200 -\n",
      "127.0.0.1 - - [18/May/2020 02:04:02] \"\u001b[37mPOST /_dash-update-component HTTP/1.1\u001b[0m\" 200 -\n",
      "127.0.0.1 - - [18/May/2020 02:04:08] \"\u001b[37mPOST /_dash-update-component HTTP/1.1\u001b[0m\" 200 -\n"
     ]
    }
   ],
   "source": [
    "if __name__ == '__main__':\n",
    "    app.run_server(debug=False)"
   ]
  },
  {
   "cell_type": "code",
   "execution_count": null,
   "metadata": {},
   "outputs": [],
   "source": []
  },
  {
   "cell_type": "code",
   "execution_count": null,
   "metadata": {},
   "outputs": [],
   "source": []
  },
  {
   "cell_type": "code",
   "execution_count": null,
   "metadata": {},
   "outputs": [],
   "source": []
  },
  {
   "cell_type": "code",
   "execution_count": null,
   "metadata": {},
   "outputs": [],
   "source": []
  },
  {
   "cell_type": "code",
   "execution_count": null,
   "metadata": {},
   "outputs": [],
   "source": []
  }
 ],
 "metadata": {
  "kernelspec": {
   "display_name": "Python 3",
   "language": "python",
   "name": "python3"
  },
  "language_info": {
   "codemirror_mode": {
    "name": "ipython",
    "version": 3
   },
   "file_extension": ".py",
   "mimetype": "text/x-python",
   "name": "python",
   "nbconvert_exporter": "python",
   "pygments_lexer": "ipython3",
   "version": "3.7.6"
  }
 },
 "nbformat": 4,
 "nbformat_minor": 4
}
